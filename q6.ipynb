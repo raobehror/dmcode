{
 "cells": [
  {
   "cell_type": "code",
   "execution_count": null,
   "id": "3d48a1dc",
   "metadata": {},
   "outputs": [],
   "source": [
    "'''Use the Decision Tree classification algorithm to construct a classifier on two datasets.\n",
    "Evaluate the classifier's performance by performing ten-fold cross validation. Compare\n",
    "the performance with that of:\n",
    "i. Bagging ensemble consisting of 3, 5, 7, 9 Decision tree classifiers\n",
    "ii. Adaboost ensemble consisting of 3, 5, 7, 9 Decision tree classifiers'''"
   ]
  },
  {
   "cell_type": "code",
   "execution_count": 11,
   "id": "1a73d271-7ca4-4560-8711-30f0955240f5",
   "metadata": {},
   "outputs": [],
   "source": [
    "import pandas as pd\n",
    "import numpy as np\n",
    "from sklearn.datasets import load_iris\n",
    "from sklearn.model_selection import cross_val_score, train_test_split\n",
    "from sklearn.preprocessing import StandardScaler, MinMaxScaler, Binarizer\n",
    "from sklearn.tree import DecisionTreeClassifier\n",
    "from sklearn.ensemble import BaggingClassifier, AdaBoostClassifier\n",
    "from sklearn.metrics import accuracy_score, precision_score, recall_score, f1_score\n",
    "import seaborn as sns\n",
    "from sklearn.impute import SimpleImputer\n",
    "\n",
    "# Function to evaluate model performance using 10-fold cross-validation\n",
    "def cross_validation(clf, X, y):\n",
    "    scores = cross_val_score(clf, X, y, cv=10, scoring='accuracy')\n",
    "    return scores.mean(), scores.std()\n",
    "\n",
    "# Function to print evaluation results\n",
    "def print_results(name, mean_score, std_dev):\n",
    "    print(f\"{name} - Mean Accuracy: {mean_score:.4f}, Standard Deviation: {std_dev:.4f}\")\n"
   ]
  },
  {
   "cell_type": "code",
   "execution_count": 12,
   "id": "087a9f7a-b4d5-4c3a-b70b-1d555c686993",
   "metadata": {},
   "outputs": [
    {
     "name": "stdout",
     "output_type": "stream",
     "text": [
      "Decision Tree (Iris) - Mean Accuracy: 0.7867, Standard Deviation: 0.0884\n",
      "Bagging with 3 Decision Trees (Iris) - Mean Accuracy: 0.7667, Standard Deviation: 0.1164\n",
      "Bagging with 5 Decision Trees (Iris) - Mean Accuracy: 0.7867, Standard Deviation: 0.0884\n",
      "Bagging with 7 Decision Trees (Iris) - Mean Accuracy: 0.7867, Standard Deviation: 0.0884\n",
      "Bagging with 9 Decision Trees (Iris) - Mean Accuracy: 0.7867, Standard Deviation: 0.0884\n",
      "AdaBoost with 3 Decision Trees (Iris) - Mean Accuracy: 0.7933, Standard Deviation: 0.0917\n",
      "AdaBoost with 5 Decision Trees (Iris) - Mean Accuracy: 0.7933, Standard Deviation: 0.0917\n",
      "AdaBoost with 7 Decision Trees (Iris) - Mean Accuracy: 0.8000, Standard Deviation: 0.0989\n",
      "AdaBoost with 9 Decision Trees (Iris) - Mean Accuracy: 0.8000, Standard Deviation: 0.0989\n"
     ]
    }
   ],
   "source": [
    "# Load Iris dataset\n",
    "iris = load_iris()\n",
    "X_iris = iris.data\n",
    "y_iris = iris.target\n",
    "\n",
    "# Standardize the data\n",
    "scaler = StandardScaler()\n",
    "X_iris_standardized = scaler.fit_transform(X_iris)\n",
    "\n",
    "# Normalize the data\n",
    "normalizer = MinMaxScaler()\n",
    "X_iris_normalized = normalizer.fit_transform(X_iris_standardized)\n",
    "\n",
    "# Discretize the data\n",
    "binarizer = Binarizer(threshold=0.5)\n",
    "X_iris_binarized = binarizer.fit_transform(X_iris_normalized)\n",
    "\n",
    "# Decision Tree\n",
    "dt = DecisionTreeClassifier(random_state=42)\n",
    "mean_score, std_dev = cross_validation(dt, X_iris_binarized, y_iris)\n",
    "print_results(\"Decision Tree (Iris)\", mean_score, std_dev)\n",
    "\n",
    "# Bagging Ensembles\n",
    "for n_estimators in [3, 5, 7, 9]:\n",
    "    bagging = BaggingClassifier(estimator=dt, n_estimators=n_estimators, random_state=42)\n",
    "    mean_score, std_dev = cross_validation(bagging, X_iris_binarized, y_iris)\n",
    "    print_results(f\"Bagging with {n_estimators} Decision Trees (Iris)\", mean_score, std_dev)\n",
    "\n",
    "# AdaBoost Ensembles with SAMME algorithm\n",
    "for n_estimators in [3, 5, 7, 9]:\n",
    "    adaboost = AdaBoostClassifier(estimator=dt, n_estimators=n_estimators, algorithm='SAMME', random_state=42)\n",
    "    mean_score, std_dev = cross_validation(adaboost, X_iris_binarized, y_iris)\n",
    "    print_results(f\"AdaBoost with {n_estimators} Decision Trees (Iris)\", mean_score, std_dev)\n"
   ]
  },
  {
   "cell_type": "code",
   "execution_count": 13,
   "id": "4c4d41d7-b33a-4139-b3f5-3249874be49b",
   "metadata": {},
   "outputs": [
    {
     "name": "stdout",
     "output_type": "stream",
     "text": [
      "Decision Tree (Titanic) - Mean Accuracy: 0.7874, Standard Deviation: 0.0275\n",
      "Bagging with 3 Decision Trees (Titanic) - Mean Accuracy: 0.7874, Standard Deviation: 0.0297\n",
      "Bagging with 5 Decision Trees (Titanic) - Mean Accuracy: 0.7874, Standard Deviation: 0.0297\n",
      "Bagging with 7 Decision Trees (Titanic) - Mean Accuracy: 0.7885, Standard Deviation: 0.0281\n",
      "Bagging with 9 Decision Trees (Titanic) - Mean Accuracy: 0.7862, Standard Deviation: 0.0291\n",
      "AdaBoost with 3 Decision Trees (Titanic) - Mean Accuracy: 0.7874, Standard Deviation: 0.0275\n",
      "AdaBoost with 5 Decision Trees (Titanic) - Mean Accuracy: 0.7874, Standard Deviation: 0.0275\n",
      "AdaBoost with 7 Decision Trees (Titanic) - Mean Accuracy: 0.7874, Standard Deviation: 0.0275\n",
      "AdaBoost with 9 Decision Trees (Titanic) - Mean Accuracy: 0.7874, Standard Deviation: 0.0275\n"
     ]
    }
   ],
   "source": [
    "# Load Titanic dataset\n",
    "df = sns.load_dataset(\"titanic\")\n",
    "\n",
    "# Drop rows with missing 'embarked' values\n",
    "df.dropna(subset=['embarked'], inplace=True)\n",
    "\n",
    "# Impute missing 'age' values with mean\n",
    "imputer = SimpleImputer(strategy='mean')\n",
    "df['age'] = imputer.fit_transform(df[['age']])\n",
    "\n",
    "# Convert categorical columns to numeric\n",
    "df['sex'] = df['sex'].map({'male': 0, 'female': 1})\n",
    "df = pd.get_dummies(df, columns=['embarked'], drop_first=True)\n",
    "\n",
    "# Select features and target\n",
    "X_titanic = df[['age', 'fare', 'sex', 'embarked_Q', 'embarked_S']]\n",
    "y_titanic = df['survived']\n",
    "\n",
    "# Standardize the data\n",
    "X_titanic_standardized = scaler.fit_transform(X_titanic)\n",
    "\n",
    "# Normalize the data\n",
    "X_titanic_normalized = normalizer.fit_transform(X_titanic_standardized)\n",
    "\n",
    "# Discretize the data\n",
    "X_titanic_binarized = binarizer.fit_transform(X_titanic_normalized)\n",
    "\n",
    "# Decision Tree\n",
    "dt = DecisionTreeClassifier(random_state=42)\n",
    "mean_score, std_dev = cross_validation(dt, X_titanic_binarized, y_titanic)\n",
    "print_results(\"Decision Tree (Titanic)\", mean_score, std_dev)\n",
    "\n",
    "# Bagging Ensembles\n",
    "for n_estimators in [3, 5, 7, 9]:\n",
    "    bagging = BaggingClassifier(estimator=dt, n_estimators=n_estimators, random_state=42)\n",
    "    mean_score, std_dev = cross_validation(bagging, X_titanic_binarized, y_titanic)\n",
    "    print_results(f\"Bagging with {n_estimators} Decision Trees (Titanic)\", mean_score, std_dev)\n",
    "\n",
    "# AdaBoost Ensembles with SAMME algorithm\n",
    "for n_estimators in [3, 5, 7, 9]:\n",
    "    adaboost = AdaBoostClassifier(estimator=dt, n_estimators=n_estimators, algorithm='SAMME', random_state=42)\n",
    "    mean_score, std_dev = cross_validation(adaboost, X_titanic_binarized, y_titanic)\n",
    "    print_results(f\"AdaBoost with {n_estimators} Decision Trees (Titanic)\", mean_score, std_dev)\n"
   ]
  },
  {
   "cell_type": "code",
   "execution_count": null,
   "id": "2941ff10-e368-4a28-9580-4589e23a7f4f",
   "metadata": {},
   "outputs": [],
   "source": []
  }
 ],
 "metadata": {
  "kernelspec": {
   "display_name": "Python 3 (ipykernel)",
   "language": "python",
   "name": "python3"
  },
  "language_info": {
   "codemirror_mode": {
    "name": "ipython",
    "version": 3
   },
   "file_extension": ".py",
   "mimetype": "text/x-python",
   "name": "python",
   "nbconvert_exporter": "python",
   "pygments_lexer": "ipython3",
   "version": "3.11.4"
  }
 },
 "nbformat": 4,
 "nbformat_minor": 5
}
